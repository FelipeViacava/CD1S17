{
 "cells": [
  {
   "cell_type": "markdown",
   "metadata": {},
   "source": [
    "___\n",
    "# PROJETO 2"
   ]
  },
  {
   "cell_type": "markdown",
   "metadata": {},
   "source": [
    "## Felipe Viacava de Freitas\n",
    "___"
   ]
  },
  {
   "cell_type": "code",
   "execution_count": 74,
   "metadata": {
    "collapsed": false
   },
   "outputs": [
    {
     "name": "stdout",
     "output_type": "stream",
     "text": [
      "Esperamos trabalhar no diretório\n",
      "C:\\Users\\B155 FIRE V3\\Documents\\Escola\\2017.1\\CD\\CD1S17\\Projeto 2\n"
     ]
    }
   ],
   "source": [
    "%matplotlib inline\n",
    "import pandas as pd\n",
    "import matplotlib.pyplot as plt\n",
    "import numpy as np\n",
    "import os\n",
    "from scipy import stats\n",
    "\n",
    "print('Esperamos trabalhar no diretório')\n",
    "print(os.getcwd())"
   ]
  },
  {
   "cell_type": "code",
   "execution_count": 75,
   "metadata": {
    "collapsed": false
   },
   "outputs": [
    {
     "data": {
      "text/html": [
       "<div>\n",
       "<table border=\"1\" class=\"dataframe\">\n",
       "  <thead>\n",
       "    <tr style=\"text-align: right;\">\n",
       "      <th></th>\n",
       "      <th>Life expectancy with projections. Yellow is IHME</th>\n",
       "      <th>A1800</th>\n",
       "      <th>A1801</th>\n",
       "      <th>A1802</th>\n",
       "      <th>A1803</th>\n",
       "      <th>A1804</th>\n",
       "      <th>A1805</th>\n",
       "      <th>A1806</th>\n",
       "      <th>A1807</th>\n",
       "      <th>A1808</th>\n",
       "      <th>...</th>\n",
       "      <th>A2004</th>\n",
       "      <th>A2005</th>\n",
       "      <th>A2006</th>\n",
       "      <th>A2007</th>\n",
       "      <th>A2008</th>\n",
       "      <th>A2009</th>\n",
       "      <th>A2010</th>\n",
       "      <th>A2011</th>\n",
       "      <th>A2012</th>\n",
       "      <th>A2013</th>\n",
       "    </tr>\n",
       "  </thead>\n",
       "  <tbody>\n",
       "    <tr>\n",
       "      <th>0</th>\n",
       "      <td>Afghanistan</td>\n",
       "      <td>28.2110</td>\n",
       "      <td>28.200753</td>\n",
       "      <td>28.190507</td>\n",
       "      <td>28.18026</td>\n",
       "      <td>28.170013</td>\n",
       "      <td>28.159767</td>\n",
       "      <td>28.14952</td>\n",
       "      <td>28.139273</td>\n",
       "      <td>28.129027</td>\n",
       "      <td>...</td>\n",
       "      <td>52.5</td>\n",
       "      <td>52.9</td>\n",
       "      <td>53.2</td>\n",
       "      <td>53.6</td>\n",
       "      <td>54.0</td>\n",
       "      <td>54.5</td>\n",
       "      <td>54.8</td>\n",
       "      <td>55.2</td>\n",
       "      <td>55.5</td>\n",
       "      <td>56.2</td>\n",
       "    </tr>\n",
       "    <tr>\n",
       "      <th>1</th>\n",
       "      <td>Albania</td>\n",
       "      <td>35.4000</td>\n",
       "      <td>35.400000</td>\n",
       "      <td>35.400000</td>\n",
       "      <td>35.40000</td>\n",
       "      <td>35.400000</td>\n",
       "      <td>35.400000</td>\n",
       "      <td>35.40000</td>\n",
       "      <td>35.400000</td>\n",
       "      <td>35.400000</td>\n",
       "      <td>...</td>\n",
       "      <td>74.4</td>\n",
       "      <td>74.4</td>\n",
       "      <td>74.5</td>\n",
       "      <td>74.7</td>\n",
       "      <td>74.9</td>\n",
       "      <td>75.0</td>\n",
       "      <td>75.2</td>\n",
       "      <td>75.5</td>\n",
       "      <td>75.7</td>\n",
       "      <td>75.8</td>\n",
       "    </tr>\n",
       "    <tr>\n",
       "      <th>2</th>\n",
       "      <td>Algeria</td>\n",
       "      <td>28.8224</td>\n",
       "      <td>28.822400</td>\n",
       "      <td>28.822400</td>\n",
       "      <td>28.82240</td>\n",
       "      <td>28.822400</td>\n",
       "      <td>28.822400</td>\n",
       "      <td>28.82240</td>\n",
       "      <td>28.822400</td>\n",
       "      <td>28.822400</td>\n",
       "      <td>...</td>\n",
       "      <td>74.2</td>\n",
       "      <td>74.5</td>\n",
       "      <td>74.8</td>\n",
       "      <td>75.0</td>\n",
       "      <td>75.3</td>\n",
       "      <td>75.6</td>\n",
       "      <td>75.9</td>\n",
       "      <td>76.1</td>\n",
       "      <td>76.2</td>\n",
       "      <td>76.3</td>\n",
       "    </tr>\n",
       "    <tr>\n",
       "      <th>3</th>\n",
       "      <td>American Samoa</td>\n",
       "      <td>NaN</td>\n",
       "      <td>NaN</td>\n",
       "      <td>NaN</td>\n",
       "      <td>NaN</td>\n",
       "      <td>NaN</td>\n",
       "      <td>NaN</td>\n",
       "      <td>NaN</td>\n",
       "      <td>NaN</td>\n",
       "      <td>NaN</td>\n",
       "      <td>...</td>\n",
       "      <td>NaN</td>\n",
       "      <td>NaN</td>\n",
       "      <td>NaN</td>\n",
       "      <td>NaN</td>\n",
       "      <td>NaN</td>\n",
       "      <td>NaN</td>\n",
       "      <td>NaN</td>\n",
       "      <td>NaN</td>\n",
       "      <td>NaN</td>\n",
       "      <td>NaN</td>\n",
       "    </tr>\n",
       "    <tr>\n",
       "      <th>4</th>\n",
       "      <td>Andorra</td>\n",
       "      <td>NaN</td>\n",
       "      <td>NaN</td>\n",
       "      <td>NaN</td>\n",
       "      <td>NaN</td>\n",
       "      <td>NaN</td>\n",
       "      <td>NaN</td>\n",
       "      <td>NaN</td>\n",
       "      <td>NaN</td>\n",
       "      <td>NaN</td>\n",
       "      <td>...</td>\n",
       "      <td>83.0</td>\n",
       "      <td>83.1</td>\n",
       "      <td>83.2</td>\n",
       "      <td>83.4</td>\n",
       "      <td>83.5</td>\n",
       "      <td>83.6</td>\n",
       "      <td>83.7</td>\n",
       "      <td>83.8</td>\n",
       "      <td>83.8</td>\n",
       "      <td>83.9</td>\n",
       "    </tr>\n",
       "  </tbody>\n",
       "</table>\n",
       "<p>5 rows × 206 columns</p>\n",
       "</div>"
      ],
      "text/plain": [
       "  Life expectancy with projections. Yellow is IHME    A1800      A1801  \\\n",
       "0                                      Afghanistan  28.2110  28.200753   \n",
       "1                                          Albania  35.4000  35.400000   \n",
       "2                                          Algeria  28.8224  28.822400   \n",
       "3                                   American Samoa      NaN        NaN   \n",
       "4                                          Andorra      NaN        NaN   \n",
       "\n",
       "       A1802     A1803      A1804      A1805     A1806      A1807      A1808  \\\n",
       "0  28.190507  28.18026  28.170013  28.159767  28.14952  28.139273  28.129027   \n",
       "1  35.400000  35.40000  35.400000  35.400000  35.40000  35.400000  35.400000   \n",
       "2  28.822400  28.82240  28.822400  28.822400  28.82240  28.822400  28.822400   \n",
       "3        NaN       NaN        NaN        NaN       NaN        NaN        NaN   \n",
       "4        NaN       NaN        NaN        NaN       NaN        NaN        NaN   \n",
       "\n",
       "   ...    A2004  A2005  A2006  A2007  A2008  A2009  A2010  A2011  A2012  A2013  \n",
       "0  ...     52.5   52.9   53.2   53.6   54.0   54.5   54.8   55.2   55.5   56.2  \n",
       "1  ...     74.4   74.4   74.5   74.7   74.9   75.0   75.2   75.5   75.7   75.8  \n",
       "2  ...     74.2   74.5   74.8   75.0   75.3   75.6   75.9   76.1   76.2   76.3  \n",
       "3  ...      NaN    NaN    NaN    NaN    NaN    NaN    NaN    NaN    NaN    NaN  \n",
       "4  ...     83.0   83.1   83.2   83.4   83.5   83.6   83.7   83.8   83.8   83.9  \n",
       "\n",
       "[5 rows x 206 columns]"
      ]
     },
     "execution_count": 75,
     "metadata": {},
     "output_type": "execute_result"
    }
   ],
   "source": [
    "dataframe = pd.read_excel('Life.xlsx')\n",
    "dataframe.head()"
   ]
  },
  {
   "cell_type": "markdown",
   "metadata": {},
   "source": [
    "___\n",
    "## Seleção dos três anos com diferentes formatos de distribuição da expectativa de vida"
   ]
  },
  {
   "cell_type": "code",
   "execution_count": 76,
   "metadata": {
    "collapsed": false
   },
   "outputs": [],
   "source": [
    "A1919 = dataframe.A1919[(dataframe.A1945 < 200) & (dataframe.A1945 < 200) & (dataframe.A1990 < 200)]\n",
    "A1945 = dataframe.A1945[(dataframe.A1945 < 200) & (dataframe.A1945 < 200) & (dataframe.A1990 < 200)]\n",
    "A1990 = dataframe.A1990[(dataframe.A1945 < 200) & (dataframe.A1945 < 200) & (dataframe.A1990 < 200)]"
   ]
  },
  {
   "cell_type": "markdown",
   "metadata": {},
   "source": [
    "___\n",
    "### Análise Descritiva"
   ]
  },
  {
   "cell_type": "code",
   "execution_count": 77,
   "metadata": {
    "collapsed": false
   },
   "outputs": [
    {
     "name": "stdout",
     "output_type": "stream",
     "text": [
      "count    201.000000\n",
      "mean      33.769531\n",
      "std        8.212032\n",
      "min       12.000000\n",
      "25%       29.700000\n",
      "50%       32.000000\n",
      "75%       35.179000\n",
      "max       59.981569\n",
      "Name: A1919, dtype: float64\n",
      "\n",
      "count    201.000000\n",
      "mean      40.799030\n",
      "std       11.239716\n",
      "min       15.000000\n",
      "25%       31.725875\n",
      "50%       39.110250\n",
      "75%       47.900000\n",
      "max       68.460000\n",
      "Name: A1945, dtype: float64\n",
      "\n",
      "count    201.000000\n",
      "mean      66.822104\n",
      "std        8.305573\n",
      "min       46.900000\n",
      "25%       60.500000\n",
      "50%       69.500000\n",
      "75%       73.000000\n",
      "max       79.100000\n",
      "Name: A1990, dtype: float64\n"
     ]
    }
   ],
   "source": [
    "print(A1919.describe())\n",
    "print(\"\")\n",
    "print(A1945.describe())\n",
    "print(\"\")\n",
    "print(A1990.describe())"
   ]
  },
  {
   "cell_type": "markdown",
   "metadata": {},
   "source": [
    "Podemos observar que a média da expectativas de vida teve um grande aumento entre 1919 e 1945 e entre 1945 e 1990. A mediana, por outro lado, só aumentou tão drasticamente entre 1945 e 1990."
   ]
  },
  {
   "cell_type": "code",
   "execution_count": 78,
   "metadata": {
    "collapsed": true
   },
   "outputs": [],
   "source": [
    "faixa = range(12, 83, 5)"
   ]
  },
  {
   "cell_type": "code",
   "execution_count": 79,
   "metadata": {
    "collapsed": false
   },
   "outputs": [
    {
     "data": {
      "text/plain": [
       "<matplotlib.text.Text at 0x1abf2ebbfd0>"
      ]
     },
     "execution_count": 79,
     "metadata": {},
     "output_type": "execute_result"
    },
    {
     "data": {
      "image/png": "[encoded data removed]",
      "text/plain": [
       "<matplotlib.figure.Figure at 0x1abf2aaf390>"
      ]
     },
     "metadata": {},
     "output_type": "display_data"
    }
   ],
   "source": [
    "plot = A1919.plot.hist(bins=faixa,title='Histograma', figsize=(6, 6), alpha=0.5, normed=1)\n",
    "plot = A1945.plot.hist(bins=faixa,title='Histograma', figsize=(6, 6), alpha=0.5, normed=1)\n",
    "plot = A1990.plot.hist(bins=faixa,title='Histograma', figsize=(6, 6), alpha=0.5, normed=1)\n",
    "plt.legend(('1919', '1945', '1990'))\n",
    "plt.ylabel('Densidade')\n",
    "plt.xlabel('Expectativa de vida (anos)')"
   ]
  },
  {
   "cell_type": "markdown",
   "metadata": {},
   "source": [
    "Podemos notar as expectativas de vida de 1919 e 1990 são muito concentradas quando comparadas à expectativa de vida de 1945. A distribuição em 1919 aparenta ter assimetria positiva com alta concentração nas classes modais. Em 1945 a distribuição torna-se mais uniforme, mas ainda com assimetria positiva. Já 1990 podemos perceber que há alta concentração de expectativas de vida próximas à média assim como em 1919, mas com assimetria negativa e distribuição ligeiramente mais uniforme."
   ]
  },
  {
   "cell_type": "code",
   "execution_count": 80,
   "metadata": {
    "collapsed": true
   },
   "outputs": [],
   "source": [
    "A1919ord = sorted(A1919)\n",
    "A1945ord = sorted(A1945)\n",
    "A1990ord = sorted(A1990)"
   ]
  },
  {
   "cell_type": "code",
   "execution_count": 89,
   "metadata": {
    "collapsed": false
   },
   "outputs": [
    {
     "data": {
      "image/png": "[encoded data removed]",
      "text/plain": [
       "<matplotlib.figure.Figure at 0x1abf2acedd8>"
      ]
     },
     "metadata": {},
     "output_type": "display_data"
    },
    {
     "data": {
      "image/png": "[encoded data removed]",
      "text/plain": [
       "<matplotlib.figure.Figure at 0x1abf2a241d0>"
      ]
     },
     "metadata": {},
     "output_type": "display_data"
    },
    {
     "data": {
      "image/png": "[encoded data removed]",
      "text/plain": [
       "<matplotlib.figure.Figure at 0x1abf06e7e48>"
      ]
     },
     "metadata": {},
     "output_type": "display_data"
    }
   ],
   "source": [
    "plt.plot(A1919ord, A1945ord, 'o')\n",
    "plt.plot((10,90),(10,90))\n",
    "plt.show()\n",
    "\n",
    "plt.plot(A1919ord, A1990ord, 'o')\n",
    "plt.plot((10,90),(10,90))\n",
    "plt.show()\n",
    "\n",
    "plt.plot(A1945ord, A1990ord, 'o')\n",
    "plt.plot((10,90),(10,90))\n",
    "plt.show()"
   ]
  },
  {
   "cell_type": "markdown",
   "metadata": {},
   "source": [
    "Os QQ-Plots acima nos permitem vizualizar graficamente a diferença entre as expectativas de vida entre os anos 1919, 1945 e 1990."
   ]
  },
  {
   "cell_type": "markdown",
   "metadata": {
    "collapsed": true
   },
   "source": [
    "### Aderência de um modelo probabilístico normal aos dados"
   ]
  },
  {
   "cell_type": "code",
   "execution_count": null,
   "metadata": {
    "collapsed": false
   },
   "outputs": [],
   "source": []
  },
  {
   "cell_type": "code",
   "execution_count": null,
   "metadata": {
    "collapsed": true
   },
   "outputs": [],
   "source": []
  },
  {
   "cell_type": "markdown",
   "metadata": {
    "collapsed": true
   },
   "source": [
    "___\n",
    "### Aderência de um modelo probabilístico assimétrico aos dados"
   ]
  },
  {
   "cell_type": "code",
   "execution_count": null,
   "metadata": {
    "collapsed": true
   },
   "outputs": [],
   "source": []
  },
  {
   "cell_type": "code",
   "execution_count": null,
   "metadata": {
    "collapsed": true
   },
   "outputs": [],
   "source": []
  },
  {
   "cell_type": "markdown",
   "metadata": {
    "collapsed": true
   },
   "source": [
    "___\n",
    "### Cálculo de probabilidades a partir da distribuição normal"
   ]
  },
  {
   "cell_type": "code",
   "execution_count": null,
   "metadata": {
    "collapsed": true
   },
   "outputs": [],
   "source": []
  },
  {
   "cell_type": "code",
   "execution_count": null,
   "metadata": {
    "collapsed": true
   },
   "outputs": [],
   "source": []
  }
 ],
 "metadata": {
  "anaconda-cloud": {},
  "kernelspec": {
   "display_name": "Python [Root]",
   "language": "python",
   "name": "Python [Root]"
  },
  "language_info": {
   "codemirror_mode": {
    "name": "ipython",
    "version": 3
   },
   "file_extension": ".py",
   "mimetype": "text/x-python",
   "name": "python",
   "nbconvert_exporter": "python",
   "pygments_lexer": "ipython3",
   "version": "3.5.2"
  }
 },
 "nbformat": 4,
 "nbformat_minor": 0
}
