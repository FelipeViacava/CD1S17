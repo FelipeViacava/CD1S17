{
 "cells": [
  {
   "cell_type": "markdown",
   "metadata": {},
   "source": [
    "___\n",
    "# Atividade: Variáveis quantitativas com Expectativa de Vida\n",
    "___\n",
    "\n",
    "## Aula 03\n",
    "\n",
    "\n",
    "\n",
    "**Preparo prévio:**\n",
    "1.\tLeitura prévia necessária: Magalhães e Lima (7ª. Edição): pág. 9 a 17 – destacando para variáveis quantitativas; pág. 106 e 107 (Definição 4.1 e Exemplo 4.1).\n",
    "\n",
    "**Hoje:**\n",
    "1. Explorar a variável quantitativa Expectativa de Vida de diversos países do mundo nos anos: 1800, 1926 e 2000. \n",
    "2. Construir tabelas de frequências e interpretar resultados considerando variáveis quantitativas de forma univariada. \n",
    "4. Explicar vantagens e desvantagens sobre o uso da frequência ou da densidade na construção de um histograma e saber interpretá-lo. \n",
    "5. Desenvolver contas para obtenção da média e mediana nos três anos.\n",
    "6. Identificar o formato dos dados (simétrico, assimétrico positivo ou assimétrico negativo) ao observar um histograma e explicar o que cada formato pode impactar nas medidas de posição.\n",
    "\n",
    "\n",
    "**Próxima aula:**\n",
    "1. Leitura prévia necessária: Magalhães e Lima (7ª. Edição): pág. 18 a 25; pág. 106 e 107 (Definição 4.1 e Exemplo 4.1); pág. 116 e 117 (Definição 4.4 e Exemplo 4.8). \n",
    "2. Leitura prévia necessária: Montgomery et al (5ª. Edição): pág. 24 a 28.\n",
    "___\n"
   ]
  },
  {
   "cell_type": "markdown",
   "metadata": {},
   "source": [
    "## <font color='blue'>Expectativa de Vida - LIFE</font>\n",
    "\n",
    "O Banco Mundial (http://data.worldbank.org/brazilian-portuguese) disponibiliza bases de dados estatísticos para um pouco mais de 200 países do mundo desde o ano 1800, as quais consideram uma seleção abrangente de indicadores econômicos, sociais e ambientais. Um desses indicadores é a expectativa de vida (em anos) de cada país.\n",
    "\n",
    "O arquivo `Life.xlsx` contém a expectativa de vida de vários países para os anos 1800, 1926 e 2000.\n",
    "\n",
    "Considerando esses dados, faça as seguintes tarefas:\n",
    "\n",
    "1.\tConstrua uma tabela de frequências absolutas e relativas (em %) para cada um dos anos. \n",
    "\n",
    "2.\tConstrua um histograma para cada ano e interprete os gráficos. \n",
    "\n",
    "3. De acordo com o formato de um histograma, é possível classificar a distribuição dos dados como sendo: simétrica, assimétrica positiva (ou a direita) ou assimétrica negativa (ou a esquerda). Observando o formato de cada histograma construído no item anterior, classifique como sendo simétrico, assimétrico positivo ou assimétrico negativo. Argumente claramente o motivo de sua classificação. \n",
    "![AssimSim](AssimSim.jpg)\n",
    "\n",
    "4.\tPara cada ano, calcule a expectativa média de vida, a expectativa mediana de vida e a classe modal.\n",
    "\n",
    "5.\tPara cada um dos três anos, ordene os valores das medidas de posição (média, mediana e classe modal) obtidas no item anterior. A ordem dessas três medidas de posição é um mero acaso ou pode ser consequência do formato dos dados? Argumente claramente sua resposta.\n"
   ]
  },
  {
   "cell_type": "code",
   "execution_count": 182,
   "metadata": {
    "collapsed": false
   },
   "outputs": [],
   "source": [
    "%matplotlib inline\n",
    "import pandas as pd\n",
    "import matplotlib.pyplot as plt\n",
    "import os"
   ]
  },
  {
   "cell_type": "code",
   "execution_count": 183,
   "metadata": {
    "collapsed": false
   },
   "outputs": [
    {
     "name": "stdout",
     "output_type": "stream",
     "text": [
      "Esperamos trabalhar no diretório\n",
      "C:\\Users\\B155 FIRE V3\\Documents\\Escola\\2017.1\\CD\\Aulas\\Aula 3\\Atividade\n"
     ]
    }
   ],
   "source": [
    "print('Esperamos trabalhar no diretório')\n",
    "print(os.getcwd())"
   ]
  },
  {
   "cell_type": "code",
   "execution_count": 184,
   "metadata": {
    "collapsed": false
   },
   "outputs": [],
   "source": [
    "dados = pd.read_excel('Life.xlsx')"
   ]
  },
  {
   "cell_type": "code",
   "execution_count": 185,
   "metadata": {
    "collapsed": false
   },
   "outputs": [
    {
     "data": {
      "text/html": [
       "<div>\n",
       "<table border=\"1\" class=\"dataframe\">\n",
       "  <thead>\n",
       "    <tr style=\"text-align: right;\">\n",
       "      <th></th>\n",
       "      <th>Pais</th>\n",
       "      <th>L1800</th>\n",
       "      <th>L1926</th>\n",
       "      <th>L2000</th>\n",
       "    </tr>\n",
       "  </thead>\n",
       "  <tbody>\n",
       "    <tr>\n",
       "      <th>0</th>\n",
       "      <td>Afghanistan</td>\n",
       "      <td>28.2110</td>\n",
       "      <td>26.919920</td>\n",
       "      <td>51.0</td>\n",
       "    </tr>\n",
       "    <tr>\n",
       "      <th>1</th>\n",
       "      <td>Albania</td>\n",
       "      <td>35.4000</td>\n",
       "      <td>35.400000</td>\n",
       "      <td>74.2</td>\n",
       "    </tr>\n",
       "    <tr>\n",
       "      <th>2</th>\n",
       "      <td>Algeria</td>\n",
       "      <td>28.8224</td>\n",
       "      <td>30.968000</td>\n",
       "      <td>73.2</td>\n",
       "    </tr>\n",
       "    <tr>\n",
       "      <th>3</th>\n",
       "      <td>Angola</td>\n",
       "      <td>26.9800</td>\n",
       "      <td>26.980000</td>\n",
       "      <td>52.6</td>\n",
       "    </tr>\n",
       "    <tr>\n",
       "      <th>4</th>\n",
       "      <td>Antigua and Barbuda</td>\n",
       "      <td>33.5360</td>\n",
       "      <td>37.673931</td>\n",
       "      <td>73.9</td>\n",
       "    </tr>\n",
       "  </tbody>\n",
       "</table>\n",
       "</div>"
      ],
      "text/plain": [
       "                  Pais    L1800      L1926  L2000\n",
       "0          Afghanistan  28.2110  26.919920   51.0\n",
       "1              Albania  35.4000  35.400000   74.2\n",
       "2              Algeria  28.8224  30.968000   73.2\n",
       "3               Angola  26.9800  26.980000   52.6\n",
       "4  Antigua and Barbuda  33.5360  37.673931   73.9"
      ]
     },
     "execution_count": 185,
     "metadata": {},
     "output_type": "execute_result"
    }
   ],
   "source": [
    "dados.head()"
   ]
  },
  {
   "cell_type": "code",
   "execution_count": 186,
   "metadata": {
    "collapsed": false
   },
   "outputs": [],
   "source": [
    "dados_1800 = dados.L1800\n",
    "dados_1926 = dados.L1926\n",
    "dados_2000 = dados.L2000"
   ]
  },
  {
   "cell_type": "code",
   "execution_count": 187,
   "metadata": {
    "collapsed": false
   },
   "outputs": [
    {
     "data": {
      "text/plain": [
       "count    201.000000\n",
       "mean      31.485800\n",
       "std        3.763625\n",
       "min       23.387000\n",
       "25%       29.000000\n",
       "50%       31.800000\n",
       "75%       33.900000\n",
       "max       42.845599\n",
       "Name: L1800, dtype: float64"
      ]
     },
     "execution_count": 187,
     "metadata": {},
     "output_type": "execute_result"
    }
   ],
   "source": [
    "dados_1800.describe()"
   ]
  },
  {
   "cell_type": "code",
   "execution_count": 188,
   "metadata": {
    "collapsed": false
   },
   "outputs": [
    {
     "data": {
      "text/plain": [
       "count    201.000000\n",
       "mean      36.353496\n",
       "std        9.590987\n",
       "min       23.387000\n",
       "25%       30.400000\n",
       "50%       32.800000\n",
       "75%       39.360000\n",
       "max       63.260000\n",
       "Name: L1926, dtype: float64"
      ]
     },
     "execution_count": 188,
     "metadata": {},
     "output_type": "execute_result"
    }
   ],
   "source": [
    "dados_1926.describe()"
   ]
  },
  {
   "cell_type": "code",
   "execution_count": 189,
   "metadata": {
    "collapsed": false
   },
   "outputs": [
    {
     "data": {
      "text/plain": [
       "count    201.000000\n",
       "mean      68.012856\n",
       "std        9.211812\n",
       "min       45.700000\n",
       "25%       61.400000\n",
       "50%       71.200000\n",
       "75%       75.000000\n",
       "max       81.100000\n",
       "Name: L2000, dtype: float64"
      ]
     },
     "execution_count": 189,
     "metadata": {},
     "output_type": "execute_result"
    }
   ],
   "source": [
    "dados_2000.describe()"
   ]
  },
  {
   "cell_type": "code",
   "execution_count": 190,
   "metadata": {
    "collapsed": false
   },
   "outputs": [
    {
     "name": "stdout",
     "output_type": "stream",
     "text": [
      "8.0622577483\n",
      "Faixas =  [ 23.  31.  39.  47.  55.  63.  71.  79.  87.]\n"
     ]
    }
   ],
   "source": [
    "from numpy import arange\n",
    "\n",
    "minimo = dados_1800.min() // 1\n",
    "maximo = (dados_2000.max() // 1) + 7\n",
    "\n",
    "intervalo = (maximo - minimo)**(1/2)\n",
    "print(intervalo)\n",
    "intervalo = 8\n",
    "\n",
    "faixa = arange(minimo, maximo, intervalo)\n",
    "print(\"Faixas = \", faixa)"
   ]
  },
  {
   "cell_type": "code",
   "execution_count": 191,
   "metadata": {
    "collapsed": false
   },
   "outputs": [],
   "source": [
    "dados_1800_cat = pd.cut(dados_1800, faixa, False)\n",
    "dados_1926_cat = pd.cut(dados_1926, faixa, False)\n",
    "dados_2000_cat = pd.cut(dados_2000, faixa, False)"
   ]
  },
  {
   "cell_type": "markdown",
   "metadata": {},
   "source": [
    "#### 1) Agora que já temos a categorização da variável quantitativa pronta, construiremos tabelas de frequências absolutas e relativas para as espectativas de vida dos anos 1800, 1926 e 2000 de forma univariada."
   ]
  },
  {
   "cell_type": "code",
   "execution_count": 192,
   "metadata": {
    "collapsed": false
   },
   "outputs": [
    {
     "name": "stdout",
     "output_type": "stream",
     "text": [
      "Frequências absolutas (1800):\n"
     ]
    },
    {
     "data": {
      "text/plain": [
       "[31, 39)    110\n",
       "[23, 31)     86\n",
       "[39, 47)      5\n",
       "[79, 87)      0\n",
       "[71, 79)      0\n",
       "[63, 71)      0\n",
       "[55, 63)      0\n",
       "[47, 55)      0\n",
       "Name: L1800, dtype: int64"
      ]
     },
     "execution_count": 192,
     "metadata": {},
     "output_type": "execute_result"
    }
   ],
   "source": [
    "print('Frequências absolutas (1800):')\n",
    "dados_1800_cat.value_counts()"
   ]
  },
  {
   "cell_type": "code",
   "execution_count": 193,
   "metadata": {
    "collapsed": false
   },
   "outputs": [
    {
     "name": "stdout",
     "output_type": "stream",
     "text": [
      "Frequências absolutas (1926):\n"
     ]
    },
    {
     "data": {
      "text/plain": [
       "[31, 39)    85\n",
       "[23, 31)    62\n",
       "[39, 47)    22\n",
       "[47, 55)    17\n",
       "[55, 63)    13\n",
       "[63, 71)     2\n",
       "[79, 87)     0\n",
       "[71, 79)     0\n",
       "Name: L1926, dtype: int64"
      ]
     },
     "execution_count": 193,
     "metadata": {},
     "output_type": "execute_result"
    }
   ],
   "source": [
    "print('Frequências absolutas (1926):')\n",
    "dados_1926_cat.value_counts()"
   ]
  },
  {
   "cell_type": "code",
   "execution_count": 194,
   "metadata": {
    "collapsed": false
   },
   "outputs": [
    {
     "name": "stdout",
     "output_type": "stream",
     "text": [
      "Frequências absolutas (2000):\n"
     ]
    },
    {
     "data": {
      "text/plain": [
       "[71, 79)    90\n",
       "[63, 71)    43\n",
       "[55, 63)    28\n",
       "[47, 55)    25\n",
       "[79, 87)    12\n",
       "[39, 47)     3\n",
       "[31, 39)     0\n",
       "[23, 31)     0\n",
       "Name: L2000, dtype: int64"
      ]
     },
     "execution_count": 194,
     "metadata": {},
     "output_type": "execute_result"
    }
   ],
   "source": [
    "print('Frequências absolutas (2000):')\n",
    "dados_2000_cat.value_counts()"
   ]
  },
  {
   "cell_type": "code",
   "execution_count": 195,
   "metadata": {
    "collapsed": false
   },
   "outputs": [
    {
     "name": "stdout",
     "output_type": "stream",
     "text": [
      "Frequências relativas (1800):\n",
      "[23, 31)    42.8\n",
      "[31, 39)    54.7\n",
      "[39, 47)     2.5\n",
      "[47, 55)     0.0\n",
      "[55, 63)     0.0\n",
      "[63, 71)     0.0\n",
      "[71, 79)     0.0\n",
      "[79, 87)     0.0\n",
      "Name: L1800, dtype: float64 \n",
      "\n"
     ]
    }
   ],
   "source": [
    "print('Frequências relativas (1800):')\n",
    "ut1 = (dados_1800_cat.value_counts(True)*100).round(decimals=1).reindex(['[23, 31)', '[31, 39)', '[39, 47)', '[47, 55)',\n",
    "                                                               '[55, 63)', '[63, 71)', '[71, 79)', '[79, 87)'])\n",
    "print(ut1,'\\n')"
   ]
  },
  {
   "cell_type": "code",
   "execution_count": 196,
   "metadata": {
    "collapsed": false
   },
   "outputs": [
    {
     "name": "stdout",
     "output_type": "stream",
     "text": [
      "Frequências relativas (1926):\n",
      "[23, 31)    30.8\n",
      "[31, 39)    42.3\n",
      "[39, 47)    10.9\n",
      "[47, 55)     8.5\n",
      "[55, 63)     6.5\n",
      "[63, 71)     1.0\n",
      "[71, 79)     0.0\n",
      "[79, 87)     0.0\n",
      "Name: L1926, dtype: float64 \n",
      "\n"
     ]
    }
   ],
   "source": [
    "print('Frequências relativas (1926):')\n",
    "ut1 = (dados_1926_cat.value_counts(True)*100).round(decimals=1).reindex(['[23, 31)', '[31, 39)', '[39, 47)', '[47, 55)',\n",
    "                                                               '[55, 63)', '[63, 71)', '[71, 79)', '[79, 87)'])\n",
    "print(ut1,'\\n')"
   ]
  },
  {
   "cell_type": "code",
   "execution_count": 197,
   "metadata": {
    "collapsed": false
   },
   "outputs": [
    {
     "name": "stdout",
     "output_type": "stream",
     "text": [
      "Frequências relativas (2000):\n",
      "[23, 31)     0.0\n",
      "[31, 39)     0.0\n",
      "[39, 47)     1.5\n",
      "[47, 55)    12.4\n",
      "[55, 63)    13.9\n",
      "[63, 71)    21.4\n",
      "[71, 79)    44.8\n",
      "[79, 87)     6.0\n",
      "Name: L2000, dtype: float64 \n",
      "\n"
     ]
    }
   ],
   "source": [
    "print('Frequências relativas (2000):')\n",
    "ut1 = (dados_2000_cat.value_counts(True)*100).round(decimals=1).reindex(['[23, 31)', '[31, 39)', '[39, 47)', '[47, 55)',\n",
    "                                                               '[55, 63)', '[63, 71)', '[71, 79)', '[79, 87)'])\n",
    "print(ut1,'\\n')"
   ]
  },
  {
   "cell_type": "markdown",
   "metadata": {
    "collapsed": true
   },
   "source": [
    "### 2, 3 e 4) Uma vez que temos as tabelas prontas, podemos plotar os histogramas para observar graficamente a distribuição das frequências e, em seguida, analizar a simetria da"
   ]
  },
  {
   "cell_type": "code",
   "execution_count": 198,
   "metadata": {
    "collapsed": false
   },
   "outputs": [
    {
     "data": {
      "text/plain": [
       "<matplotlib.text.Text at 0x2131d751c88>"
      ]
     },
     "execution_count": 198,
     "metadata": {},
     "output_type": "execute_result"
    },
    {
     "data": {
      "image/png": "[encoded data removed]",
      "text/plain": [
       "<matplotlib.figure.Figure at 0x2131d9f4a90>"
      ]
     },
     "metadata": {},
     "output_type": "display_data"
    }
   ],
   "source": [
    "plot = dados_1800.plot.hist(bins=faixa,title='1800 - Frequência absoluta', figsize=(6, 6), alpha=0.5)\n",
    "plt.ylabel('Frequência absoluta')\n",
    "plt.xlabel('Expectativa de vida (anos)')"
   ]
  },
  {
   "cell_type": "code",
   "execution_count": 199,
   "metadata": {
    "collapsed": false
   },
   "outputs": [
    {
     "data": {
      "text/plain": [
       "<matplotlib.text.Text at 0x2131d821208>"
      ]
     },
     "execution_count": 199,
     "metadata": {},
     "output_type": "execute_result"
    },
    {
     "data": {
      "image/png": "[encoded data removed]",
      "text/plain": [
       "<matplotlib.figure.Figure at 0x2131d888748>"
      ]
     },
     "metadata": {},
     "output_type": "display_data"
    }
   ],
   "source": [
    "plot = dados_1926.plot.hist(bins=faixa,title='1926 - Frequência absoluta', figsize=(6, 6), alpha=0.5)\n",
    "plt.ylabel('Frequência absoluta')\n",
    "plt.xlabel('Expectativa de vida (anos)')"
   ]
  },
  {
   "cell_type": "code",
   "execution_count": 200,
   "metadata": {
    "collapsed": false
   },
   "outputs": [
    {
     "data": {
      "text/plain": [
       "<matplotlib.text.Text at 0x2131d762ac8>"
      ]
     },
     "execution_count": 200,
     "metadata": {},
     "output_type": "execute_result"
    },
    {
     "data": {
      "image/png": "[encoded data removed]",
      "text/plain": [
       "<matplotlib.figure.Figure at 0x2131d9f4780>"
      ]
     },
     "metadata": {},
     "output_type": "display_data"
    }
   ],
   "source": [
    "plot = dados_2000.plot.hist(bins=faixa,title='2000 - Frequência absoluta', figsize=(6, 6), alpha=0.5)\n",
    "plt.ylabel('Frequência absoluta')\n",
    "plt.xlabel('Expectativa de vida (anos)')"
   ]
  },
  {
   "cell_type": "code",
   "execution_count": 201,
   "metadata": {
    "collapsed": false
   },
   "outputs": [
    {
     "name": "stdout",
     "output_type": "stream",
     "text": [
      "Média =  31.485799715054547\n",
      "Mediana =  31.8\n",
      "Moda: 31 a 39 anos\n",
      "Simetria: assimetria negativa, pois a média é menor que a mediana. Porém, o fato de que a média e a mediana são muito próximas\n",
      "nos permite classificar esta distribuição como simétrica\n"
     ]
    },
    {
     "data": {
      "image/png": "[encoded data removed]",
      "text/plain": [
       "<matplotlib.figure.Figure at 0x2131da64780>"
      ]
     },
     "metadata": {},
     "output_type": "display_data"
    }
   ],
   "source": [
    "from numpy import zeros_like\n",
    "plot = dados_1800.plot.hist(bins=faixa,title='1800 - Frequência relativa', weights=zeros_like(dados_1800)+1./dados_1800.size*100, figsize=(6, 6), alpha=0.5)\n",
    "plt.ylabel('Frequência relativa (em %)')\n",
    "plt.xlabel('Expectativa de vida (anos)')\n",
    "\n",
    "media = dados_1800.mean()\n",
    "mediana = dados_1800.median()\n",
    "\n",
    "print(\"Média = \", media)\n",
    "print(\"Mediana = \", mediana)\n",
    "print(\"Moda: 31 a 39 anos\")\n",
    "print(\"Simetria: assimetria negativa, pois a média é menor que a mediana. Porém, o fato de que a média e a mediana são muito próximas\")\n",
    "print(\"nos permite classificar esta distribuição como simétrica\")"
   ]
  },
  {
   "cell_type": "code",
   "execution_count": 202,
   "metadata": {
    "collapsed": false
   },
   "outputs": [
    {
     "name": "stdout",
     "output_type": "stream",
     "text": [
      "Média =  36.35349645910288\n",
      "Mediana =  32.8\n",
      "Moda: 31 a 39 anos\n",
      "Simetria: assimetria positiva, pois a média é maior que a mediana\n"
     ]
    },
    {
     "data": {
      "image/png": "[encoded data removed]",
      "text/plain": [
       "<matplotlib.figure.Figure at 0x2131dc08f98>"
      ]
     },
     "metadata": {},
     "output_type": "display_data"
    }
   ],
   "source": [
    "plot = dados_1926.plot.hist(bins=faixa,title='1926 - Frequência relativa', weights=zeros_like(dados_1926)+1./dados_1926.size*100, figsize=(6, 6), alpha=0.5)\n",
    "plt.ylabel('Frequência relativa (em %)')\n",
    "plt.xlabel('Expectativa de vida (anos)')\n",
    "\n",
    "media = dados_1926.mean()\n",
    "mediana = dados_1926.median()\n",
    "\n",
    "print(\"Média = \", media)\n",
    "print(\"Mediana = \", mediana)\n",
    "print(\"Moda: 31 a 39 anos\")\n",
    "print(\"Simetria: assimetria positiva, pois a média é maior que a mediana\")"
   ]
  },
  {
   "cell_type": "code",
   "execution_count": 203,
   "metadata": {
    "collapsed": false
   },
   "outputs": [
    {
     "name": "stdout",
     "output_type": "stream",
     "text": [
      "Média =  68.01285572139301\n",
      "Mediana =  71.2\n",
      "Moda: 71 a 79 anos\n",
      "Simetria: assimetria negativa, pois a média é menor que a mediana\n"
     ]
    },
    {
     "data": {
      "image/png": "[encoded data removed]",
      "text/plain": [
       "<matplotlib.figure.Figure at 0x2131dbd2128>"
      ]
     },
     "metadata": {},
     "output_type": "display_data"
    }
   ],
   "source": [
    "plot = dados_2000.plot.hist(bins=faixa,title='2000 - Frequência relativa', weights=zeros_like(dados_2000)+1./dados_2000.size*100, figsize=(6, 6), alpha=0.5)\n",
    "plt.ylabel('Frequência relativa (em %)')\n",
    "plt.xlabel('Expectativa de vida (anos)')\n",
    "\n",
    "media = dados_2000.mean()\n",
    "mediana = dados_2000.median()\n",
    "\n",
    "print(\"Média = \", media)\n",
    "print(\"Mediana = \", mediana)\n",
    "print(\"Moda: 71 a 79 anos\")\n",
    "print(\"Simetria: assimetria negativa, pois a média é menor que a mediana\")"
   ]
  },
  {
   "cell_type": "code",
   "execution_count": null,
   "metadata": {
    "collapsed": true
   },
   "outputs": [],
   "source": []
  }
 ],
 "metadata": {
  "anaconda-cloud": {},
  "kernelspec": {
   "display_name": "Python [Root]",
   "language": "python",
   "name": "Python [Root]"
  },
  "language_info": {
   "codemirror_mode": {
    "name": "ipython",
    "version": 3
   },
   "file_extension": ".py",
   "mimetype": "text/x-python",
   "name": "python",
   "nbconvert_exporter": "python",
   "pygments_lexer": "ipython3",
   "version": "3.5.2"
  }
 },
 "nbformat": 4,
 "nbformat_minor": 0
}
