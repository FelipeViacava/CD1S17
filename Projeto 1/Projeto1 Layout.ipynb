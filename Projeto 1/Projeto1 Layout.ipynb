{
 "cells": [
  {
   "cell_type": "markdown",
   "metadata": {},
   "source": [
    "___\n",
    "# PROJETO 1"
   ]
  },
  {
   "cell_type": "markdown",
   "metadata": {},
   "source": [
    "## Felipe Viacava de Freitas\n",
    "___"
   ]
  },
  {
   "cell_type": "markdown",
   "metadata": {},
   "source": [
    "## Comparação de variáveis no AC entre 2009 e 2015"
   ]
  },
  {
   "cell_type": "markdown",
   "metadata": {},
   "source": [
    "___\n",
    "## Introdução\n",
    "\n",
    "Neste estudo será analisado o desenvolvimento socioeconômico do estado do Acre em relação a São Paulo entre os anos de 2009 e 2015 a partir do estudo de variáveis qualitativas e quantitativas, levando em conta, por exemplo, o acesso à internet e a renda doméstica.\n"
   ]
  },
  {
   "cell_type": "markdown",
   "metadata": {},
   "source": [
    "___\n",
    "## Análise e Resultados"
   ]
  },
  {
   "cell_type": "code",
   "execution_count": 1,
   "metadata": {
    "collapsed": true
   },
   "outputs": [],
   "source": [
    "%matplotlib inline\n",
    "import pandas as pd\n",
    "import matplotlib.pyplot as plt\n",
    "import numpy as np\n",
    "from numpy import arange\n",
    "import os"
   ]
  },
  {
   "cell_type": "code",
   "execution_count": 2,
   "metadata": {
    "collapsed": false
   },
   "outputs": [
    {
     "name": "stdout",
     "output_type": "stream",
     "text": [
      "Esperamos trabalhar no diretório\n",
      "C:\\Users\\B155 FIRE V3\\Documents\\Escola\\2017.1\\CD\\Projetos\\Projeto 1\n"
     ]
    }
   ],
   "source": [
    "print('Esperamos trabalhar no diretório')\n",
    "print(os.getcwd())"
   ]
  },
  {
   "cell_type": "code",
   "execution_count": 3,
   "metadata": {
    "collapsed": false
   },
   "outputs": [],
   "source": [
    "dados2015 = pd.read_csv('DOM2015.csv',sep=',')\n",
    "dados2009 = pd.read_csv('DOM2009.csv',sep=',')"
   ]
  },
  {
   "cell_type": "code",
   "execution_count": 4,
   "metadata": {
    "collapsed": false
   },
   "outputs": [],
   "source": [
    "dados2009.V0207 = dados2009.V0207.astype('category')\n",
    "dados2015.V0207 = dados2015.V0207.astype('category')\n",
    "dados2009.V0231 = dados2009.V0231.astype('category')\n",
    "dados2015.V0231 = dados2015.V0231.astype('category')\n",
    "dados2015.V02322 = dados2015.V02322.astype('category')"
   ]
  },
  {
   "cell_type": "code",
   "execution_count": 5,
   "metadata": {
    "collapsed": false
   },
   "outputs": [],
   "source": [
    "#Exclui da coluna de V4621(Renda) os domicílios que tinham como renda NaN e aqueles que tinham como renda 999 999 999 999\n",
    "dados2015.V4621 = dados2015.V4621[(dados2015.V4621 != 999999999999) & (~dados2015.V4621.isnull())]\n",
    "dados2009.V4621 = dados2009.V4621[(dados2009.V4621 != 999999999999) & (~dados2009.V4621.isnull())]"
   ]
  },
  {
   "cell_type": "code",
   "execution_count": 6,
   "metadata": {
    "collapsed": false
   },
   "outputs": [],
   "source": [
    "acre2015 = dados2015[dados2015.UF == 12]\n",
    "acre2009 = dados2009[dados2009.UF == 12]"
   ]
  },
  {
   "cell_type": "code",
   "execution_count": 7,
   "metadata": {
    "collapsed": false
   },
   "outputs": [],
   "source": [
    "# Primeira variável: V0207 - condição de ocupação de domicílio"
   ]
  },
  {
   "cell_type": "code",
   "execution_count": 8,
   "metadata": {
    "collapsed": false
   },
   "outputs": [
    {
     "data": {
      "text/plain": [
       "Próprio - já pago          0.804484\n",
       "Alugado                    0.096861\n",
       "Cedido de outra forma      0.039462\n",
       "Próprio - ainda pagando    0.030493\n",
       "Cedido por empregador      0.025112\n",
       "Outra condição             0.003587\n",
       "Name: V0207, dtype: float64"
      ]
     },
     "execution_count": 8,
     "metadata": {},
     "output_type": "execute_result"
    }
   ],
   "source": [
    "acre2009.V0207.cat.categories = ('Próprio - já pago', 'Próprio - ainda pagando', 'Alugado', 'Cedido por empregador', 'Cedido de outra forma', 'Outra condição')\n",
    "acre2009.V0207.value_counts(True)"
   ]
  },
  {
   "cell_type": "code",
   "execution_count": 9,
   "metadata": {
    "collapsed": false
   },
   "outputs": [
    {
     "data": {
      "text/plain": [
       "Próprio - já pago          0.792581\n",
       "Alugado                    0.115821\n",
       "Cedido de outra forma      0.043906\n",
       "Próprio - ainda pagando    0.028766\n",
       "Cedido por empregador      0.018168\n",
       "Outra condição             0.000757\n",
       "Name: V0207, dtype: float64"
      ]
     },
     "execution_count": 9,
     "metadata": {},
     "output_type": "execute_result"
    }
   ],
   "source": [
    "acre2015.V0207.cat.categories = ('Próprio - já pago', 'Próprio - ainda pagando', 'Alugado', 'Cedido por empregador', 'Cedido de outra forma', 'Outra condição')\n",
    "acre2015.V0207.value_counts(True)"
   ]
  },
  {
   "cell_type": "code",
   "execution_count": 10,
   "metadata": {
    "collapsed": false
   },
   "outputs": [
    {
     "name": "stdout",
     "output_type": "stream",
     "text": [
      "Condição de ocupação de domicílio em 2009 (%)\n"
     ]
    },
    {
     "data": {
      "image/png": "[encoded data removed]",
      "text/plain": [
       "<matplotlib.figure.Figure at 0x1fbf14dfe10>"
      ]
     },
     "metadata": {},
     "output_type": "display_data"
    }
   ],
   "source": [
    "ga19v0207 = acre2009.V0207.value_counts(True)\n",
    "ga19v0207.plot(kind='bar', color=('blue', 'red'), legend=False)\n",
    "\n",
    "print(\"Condição de ocupação de domicílio em 2009 (%)\")"
   ]
  },
  {
   "cell_type": "markdown",
   "metadata": {
    "collapsed": true
   },
   "source": [
    " "
   ]
  },
  {
   "cell_type": "code",
   "execution_count": 11,
   "metadata": {
    "collapsed": false
   },
   "outputs": [
    {
     "name": "stdout",
     "output_type": "stream",
     "text": [
      "Condição de ocupação de domicílio em 2015 (%)\n",
      "\n",
      "Como podemos ver, não houveram mudanças significativas neste variável entre as datas estudadas\n"
     ]
    },
    {
     "data": {
      "image/png": "[encoded data removed]",
      "text/plain": [
       "<matplotlib.figure.Figure at 0x1fb8623e438>"
      ]
     },
     "metadata": {},
     "output_type": "display_data"
    }
   ],
   "source": [
    "ga15v0207 = acre2015.V0207.value_counts(True)\n",
    "ga15v0207.plot(kind='bar', color=('green', 'yellow'), legend=False)\n",
    "\n",
    "print(\"Condição de ocupação de domicílio em 2015 (%)\")\n",
    "print(\"\")\n",
    "print(\"Como podemos ver, não houveram mudanças significativas neste variável entre as datas estudadas\")"
   ]
  },
  {
   "cell_type": "code",
   "execution_count": 12,
   "metadata": {
    "collapsed": true
   },
   "outputs": [],
   "source": [
    "# agora avaliaremos os domicílios com microcomputador"
   ]
  },
  {
   "cell_type": "code",
   "execution_count": 13,
   "metadata": {
    "collapsed": false
   },
   "outputs": [
    {
     "data": {
      "text/plain": [
       "Não    0.772197\n",
       "Sim    0.227803\n",
       "Name: V0231, dtype: float64"
      ]
     },
     "execution_count": 13,
     "metadata": {},
     "output_type": "execute_result"
    }
   ],
   "source": [
    "acre2009.V0231.cat.categories = ('Sim', 'Não')\n",
    "acre2009.V0231.value_counts(True)"
   ]
  },
  {
   "cell_type": "code",
   "execution_count": 14,
   "metadata": {
    "collapsed": false
   },
   "outputs": [
    {
     "data": {
      "text/plain": [
       "Não    0.713853\n",
       "Sim    0.286147\n",
       "Name: V0231, dtype: float64"
      ]
     },
     "execution_count": 14,
     "metadata": {},
     "output_type": "execute_result"
    }
   ],
   "source": [
    "acre2015.V0231.cat.categories = ('Sim', 'Não')\n",
    "acre2015.V0231.value_counts(True)"
   ]
  },
  {
   "cell_type": "code",
   "execution_count": 15,
   "metadata": {
    "collapsed": false
   },
   "outputs": [
    {
     "name": "stdout",
     "output_type": "stream",
     "text": [
      "Posse de microcomputador no Acre em 2009 (%)\n"
     ]
    },
    {
     "data": {
      "image/png": "[encoded data removed]",
      "text/plain": [
       "<matplotlib.figure.Figure at 0x1fb8636d518>"
      ]
     },
     "metadata": {},
     "output_type": "display_data"
    }
   ],
   "source": [
    "ga19v0231 = acre2009.V0231.value_counts(True)\n",
    "ga19v0231.plot(kind='bar', color=('blue', 'red'), legend=False)\n",
    "\n",
    "print(\"Posse de microcomputador no Acre em 2009 (%)\")"
   ]
  },
  {
   "cell_type": "code",
   "execution_count": 16,
   "metadata": {
    "collapsed": false
   },
   "outputs": [
    {
     "name": "stdout",
     "output_type": "stream",
     "text": [
      "Posse de microcomputador no Acre em 2015 (%)\n",
      "\n",
      "Novamente podemos observar que não há grande diferença entre os anos 2009 e 2015, o que pode indicar que o desenvolvimento local não foi grande\n"
     ]
    },
    {
     "data": {
      "image/png": "[encoded data removed]",
      "text/plain": [
       "<matplotlib.figure.Figure at 0x1fb87780b70>"
      ]
     },
     "metadata": {},
     "output_type": "display_data"
    }
   ],
   "source": [
    "ga15v0231 = acre2015.V0231.value_counts(True)\n",
    "ga15v0231.plot(kind='bar', color=('y', 'g'), legend=False)\n",
    "\n",
    "print(\"Posse de microcomputador no Acre em 2015 (%)\")\n",
    "print(\"\")\n",
    "print(\"Novamente podemos observar que não há grande diferença entre os anos 2009 e 2015, o que pode indicar que o desenvolvimento local não foi grande\")"
   ]
  },
  {
   "cell_type": "code",
   "execution_count": 17,
   "metadata": {
    "collapsed": false
   },
   "outputs": [
    {
     "name": "stdout",
     "output_type": "stream",
     "text": [
      "Posse de microcomputador em 2009 para moradias próprias já pagas\n",
      "Não    0.780379\n",
      "Sim    0.219621\n",
      "Name: V0231, dtype: float64\n",
      "\n",
      "Posse de microcomputador em 2009 para outras condições de ocupação\n",
      "Não    0.738532\n",
      "Sim    0.261468\n",
      "Name: V0231, dtype: float64\n"
     ]
    }
   ],
   "source": [
    "# agora vamos cruzar oas dados de posse de microcomputador e condição da ocupação do domicílio\n",
    "\n",
    "\n",
    "moradiapaga2009 = acre2009[acre2009.V0207 == 'Próprio - já pago']\n",
    "moradianaopaga2009 = acre2009[acre2009.V0207 != 'Próprio - já pago']\n",
    "\n",
    "print(\"Posse de microcomputador em 2009 para moradias próprias já pagas\")\n",
    "print(moradiapaga2009.V0231.value_counts(True))\n",
    "print(\"\")\n",
    "print(\"Posse de microcomputador em 2009 para outras condições de ocupação\")\n",
    "print(moradianaopaga2009.V0231.value_counts(True))"
   ]
  },
  {
   "cell_type": "code",
   "execution_count": 18,
   "metadata": {
    "collapsed": false
   },
   "outputs": [
    {
     "name": "stdout",
     "output_type": "stream",
     "text": [
      "Posse de microcomputador em 2015 para moradias próprias já pagas\n",
      "Não    0.723973\n",
      "Sim    0.276027\n",
      "Name: V0231, dtype: float64\n",
      "\n",
      "Posse de microcomputador em 2015 para outras condições de ocupação\n",
      "Não    0.675182\n",
      "Sim    0.324818\n",
      "Name: V0231, dtype: float64\n",
      "\n",
      "Novamente não há grandes alterações entre 2009 e 2015\n"
     ]
    }
   ],
   "source": [
    "moradiapaga2015 = acre2015[acre2015.V0207 == 'Próprio - já pago']\n",
    "moradianaopaga2015 = acre2015[acre2015.V0207 != 'Próprio - já pago']\n",
    "\n",
    "print(\"Posse de microcomputador em 2015 para moradias próprias já pagas\")\n",
    "print(moradiapaga2015.V0231.value_counts(True))\n",
    "print(\"\")\n",
    "print(\"Posse de microcomputador em 2015 para outras condições de ocupação\")\n",
    "print(moradianaopaga2015.V0231.value_counts(True))\n",
    "print(\"\")\n",
    "print(\"Novamente não há grandes alterações entre 2009 e 2015\")"
   ]
  },
  {
   "cell_type": "code",
   "execution_count": 19,
   "metadata": {
    "collapsed": false
   },
   "outputs": [
    {
     "name": "stdout",
     "output_type": "stream",
     "text": [
      "count     1117.000000\n",
      "mean       668.155774\n",
      "std       1419.032019\n",
      "min          0.000000\n",
      "25%               NaN\n",
      "50%               NaN\n",
      "75%               NaN\n",
      "max      18000.000000\n",
      "Name: V4621, dtype: float64\n",
      "\n"
     ]
    },
    {
     "name": "stderr",
     "output_type": "stream",
     "text": [
      "C:\\Users\\B155 FIRE V3\\Anaconda3\\lib\\site-packages\\numpy\\lib\\function_base.py:3834: RuntimeWarning: Invalid value encountered in percentile\n",
      "  RuntimeWarning)\n"
     ]
    },
    {
     "data": {
      "text/plain": [
       "(0, 1000]         0.866178\n",
       "(1000, 2000]      0.071494\n",
       "(2000, 3000]      0.027498\n",
       "(3000, 4000]      0.011916\n",
       "(4000, 5000]      0.007333\n",
       "(5000, 6000]      0.006416\n",
       "(6000, 7000]      0.000917\n",
       "(7000, 8000]      0.001833\n",
       "(8000, 9000]      0.000000\n",
       "(9000, 10000]     0.000917\n",
       "(10000, 11000]    0.000000\n",
       "(11000, 12000]    0.000000\n",
       "(12000, 13000]    0.000917\n",
       "(13000, 14000]    0.000917\n",
       "(14000, 15000]    0.000917\n",
       "(15000, 16000]    0.000917\n",
       "(16000, 17000]    0.000000\n",
       "(17000, 18000]    0.001833\n",
       "(18000, 19000]    0.000000\n",
       "(19000, 20000]    0.000000\n",
       "(20000, 21000]    0.000000\n",
       "(21000, 22000]    0.000000\n",
       "(22000, 23000]    0.000000\n",
       "(23000, 24000]    0.000000\n",
       "(24000, 25000]    0.000000\n",
       "(25000, 26000]    0.000000\n",
       "(26000, 27000]    0.000000\n",
       "(27000, 28000]    0.000000\n",
       "(28000, 29000]    0.000000\n",
       "(29000, 30000]         NaN\n",
       "Name: V4621, dtype: float64"
      ]
     },
     "execution_count": 19,
     "metadata": {},
     "output_type": "execute_result"
    }
   ],
   "source": [
    "print(acre2009.V4621.describe())\n",
    "print(\"\")\n",
    "faixa2009 = range(0,30000,1000)\n",
    "renda2009 = pd.cut(acre2009.V4621, bins=faixa2009)\n",
    "renda2009.value_counts(True).reindex(['(0, 1000]', '(1000, 2000]', '(2000, 3000]', '(3000, 4000]',\n",
    "                                '(4000, 5000]', '(5000, 6000]', '(6000, 7000]','(7000, 8000]','(8000, 9000]',\n",
    "                                '(9000, 10000]', '(10000, 11000]', '(11000, 12000]', '(12000, 13000]', '(13000, 14000]',\n",
    "                                '(14000, 15000]', '(15000, 16000]', '(16000, 17000]', '(17000, 18000]', '(18000, 19000]',\n",
    "                                 '(19000, 20000]', '(20000, 21000]', '(21000, 22000]', '(22000, 23000]', '(23000, 24000]',\n",
    "                                 '(24000, 25000]', '(25000, 26000]', '(26000, 27000]', '(27000, 28000]', '(28000, 29000]',\n",
    "                                 '(29000, 30000]'])"
   ]
  },
  {
   "cell_type": "code",
   "execution_count": 20,
   "metadata": {
    "collapsed": false
   },
   "outputs": [
    {
     "name": "stdout",
     "output_type": "stream",
     "text": [
      "count     1309.000000\n",
      "mean       896.812834\n",
      "std       1549.468567\n",
      "min          0.000000\n",
      "25%               NaN\n",
      "50%               NaN\n",
      "75%               NaN\n",
      "max      30000.000000\n",
      "Name: V4621, dtype: float64\n",
      "\n"
     ]
    },
    {
     "name": "stderr",
     "output_type": "stream",
     "text": [
      "C:\\Users\\B155 FIRE V3\\Anaconda3\\lib\\site-packages\\numpy\\lib\\function_base.py:3834: RuntimeWarning: Invalid value encountered in percentile\n",
      "  RuntimeWarning)\n"
     ]
    },
    {
     "data": {
      "text/plain": [
       "(0, 1000]         0.776245\n",
       "(1000, 2000]      0.144828\n",
       "(2000, 3000]      0.039080\n",
       "(3000, 4000]      0.016858\n",
       "(4000, 5000]      0.008429\n",
       "(5000, 6000]      0.005364\n",
       "(6000, 7000]      0.000766\n",
       "(7000, 8000]      0.002299\n",
       "(8000, 9000]      0.001533\n",
       "(9000, 10000]     0.000766\n",
       "(10000, 11000]    0.000766\n",
       "(11000, 12000]    0.001533\n",
       "(12000, 13000]    0.000000\n",
       "(13000, 14000]    0.000766\n",
       "(14000, 15000]    0.000000\n",
       "(15000, 16000]    0.000000\n",
       "(16000, 17000]    0.000000\n",
       "(17000, 18000]    0.000000\n",
       "(18000, 19000]    0.000000\n",
       "(19000, 20000]    0.000000\n",
       "(20000, 21000]    0.000000\n",
       "(21000, 22000]    0.000000\n",
       "(22000, 23000]    0.000766\n",
       "(23000, 24000]    0.000000\n",
       "(24000, 25000]    0.000000\n",
       "(25000, 26000]    0.000000\n",
       "(26000, 27000]    0.000000\n",
       "(27000, 28000]    0.000000\n",
       "(28000, 29000]    0.000000\n",
       "(29000, 30000]         NaN\n",
       "Name: V4621, dtype: float64"
      ]
     },
     "execution_count": 20,
     "metadata": {},
     "output_type": "execute_result"
    }
   ],
   "source": [
    "print(acre2015.V4621.describe())\n",
    "print(\"\")\n",
    "faixa2015 = range(0,30000,1000)\n",
    "renda2015 = pd.cut(acre2015.V4621, bins=faixa2015)\n",
    "renda2015.value_counts(True).reindex(['(0, 1000]', '(1000, 2000]', '(2000, 3000]', '(3000, 4000]',\n",
    "                                '(4000, 5000]', '(5000, 6000]', '(6000, 7000]','(7000, 8000]','(8000, 9000]',\n",
    "                                '(9000, 10000]', '(10000, 11000]', '(11000, 12000]', '(12000, 13000]', '(13000, 14000]',\n",
    "                                '(14000, 15000]', '(15000, 16000]', '(16000, 17000]', '(17000, 18000]', '(18000, 19000]',\n",
    "                                 '(19000, 20000]', '(20000, 21000]', '(21000, 22000]', '(22000, 23000]', '(23000, 24000]',\n",
    "                                 '(24000, 25000]', '(25000, 26000]', '(26000, 27000]', '(27000, 28000]', '(28000, 29000]',\n",
    "                                 '(29000, 30000]'])"
   ]
  },
  {
   "cell_type": "code",
   "execution_count": 21,
   "metadata": {
    "collapsed": false
   },
   "outputs": [
    {
     "data": {
      "image/png": "[encoded data removed]",
      "text/plain": [
       "<matplotlib.figure.Figure at 0x1fb877eeb70>"
      ]
     },
     "metadata": {},
     "output_type": "display_data"
    }
   ],
   "source": [
    "plot = acre2009.V4621.plot.hist(bins=faixa2009,title='HISTOGRAMA DA RENDA PER CAPITA EM 2009', normed=1, figsize=(6, 6), alpha=0.5)"
   ]
  },
  {
   "cell_type": "code",
   "execution_count": 22,
   "metadata": {
    "collapsed": false
   },
   "outputs": [
    {
     "data": {
      "image/png": "[encoded data removed]",
      "text/plain": [
       "<matplotlib.figure.Figure at 0x1fb881e3908>"
      ]
     },
     "metadata": {},
     "output_type": "display_data"
    }
   ],
   "source": [
    "plot = acre2015.V4621.plot.hist(bins=faixa2015,title='HISTOGRAMA DA RENDA PER CAPITA EM 2015', normed=1, figsize=(6, 6), alpha=0.5)"
   ]
  },
  {
   "cell_type": "markdown",
   "metadata": {
    "collapsed": true
   },
   "source": [
    "Como podemos observar, a renda percapita média nos domicílios subiu entre 2009 e 2015 e a distribuição da renda observando o histográfico parece ter sido horizontalizada"
   ]
  },
  {
   "cell_type": "code",
   "execution_count": 24,
   "metadata": {
    "collapsed": false
   },
   "outputs": [
    {
     "data": {
      "text/plain": [
       "<matplotlib.text.Text at 0x1fb878a1a58>"
      ]
     },
     "execution_count": 24,
     "metadata": {},
     "output_type": "execute_result"
    },
    {
     "data": {
      "image/png": "[encoded data removed]",
      "text/plain": [
       "<matplotlib.figure.Figure at 0x1fbf0d1a0b8>"
      ]
     },
     "metadata": {},
     "output_type": "display_data"
    }
   ],
   "source": [
    "acre2009.V4621.plot (kind='box', figsize=(10,10), title = 'Boxplot da renda percapita dos domicílios do Acre em 2009')\n",
    "plt.axis([0,2,0,2000])\n",
    "plt.ylabel('Renda per capita (em R$)')"
   ]
  },
  {
   "cell_type": "code",
   "execution_count": 25,
   "metadata": {
    "collapsed": false
   },
   "outputs": [
    {
     "data": {
      "text/plain": [
       "<matplotlib.text.Text at 0x1fb877ebf98>"
      ]
     },
     "execution_count": 25,
     "metadata": {},
     "output_type": "execute_result"
    },
    {
     "data": {
      "image/png": "[encoded data removed]",
      "text/plain": [
       "<matplotlib.figure.Figure at 0x1fb87896438>"
      ]
     },
     "metadata": {},
     "output_type": "display_data"
    }
   ],
   "source": [
    "acre2015.V4621.plot (kind='box', figsize=(10,10), title = 'Boxplot da renda percapita dos domicílios do Acre em 2015')\n",
    "plt.axis([0,2,0,2000])\n",
    "plt.ylabel('Renda per capita (em R$)')"
   ]
  },
  {
   "cell_type": "markdown",
   "metadata": {
    "collapsed": false
   },
   "source": [
    "___\n",
    "## Conclusão "
   ]
  },
  {
   "cell_type": "markdown",
   "metadata": {
    "collapsed": true
   },
   "source": [
    "Os domicílios no Acre apresentaram pouquissimas diferenças entre 2009 e 2015 em relação à condição te ocupação e posse de microcomputador. Por outro lado a média, o histograma e o boxplot apontam que a renda domiciliar per capita melhorou significativamente."
   ]
  }
 ],
 "metadata": {
  "anaconda-cloud": {},
  "kernelspec": {
   "display_name": "Python [Root]",
   "language": "python",
   "name": "Python [Root]"
  },
  "language_info": {
   "codemirror_mode": {
    "name": "ipython",
    "version": 3
   },
   "file_extension": ".py",
   "mimetype": "text/x-python",
   "name": "python",
   "nbconvert_exporter": "python",
   "pygments_lexer": "ipython3",
   "version": "3.5.2"
  }
 },
 "nbformat": 4,
 "nbformat_minor": 0
}
