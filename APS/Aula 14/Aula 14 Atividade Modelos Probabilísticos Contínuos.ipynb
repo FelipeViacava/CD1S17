{
 "cells": [
  {
   "cell_type": "markdown",
   "metadata": {},
   "source": [
    "___\n",
    "# Atividade: Modelos probabilísticos contínuos e Dados\n",
    "___\n",
    "\n",
    "## Aula 14\n",
    "\n",
    "**Preparo Prévio:**\n",
    "1. Leitura prévia necessária: Magalhães e Lima (7ª. Edição): Modelo Normal (pág. 197 a 201).\n",
    "2. Executar o arquivo `Aula13 Modelos probabilísticos contínuos.ipynb`\n",
    "3. Leitura prévia necessária: Magalhães e Lima (7ª. Edição): Gráfico de quantis ou QQplot (pág. 27 - Exemplo 1.10 e 1.11).\n",
    "4. Leitura prévia necessária: Magalhães e Lima (7ª. Edição): Gráfico de probabilidade (similar ao gráfico QQplot) (pág. 201 a 204) - Exemplo 6.10).\n",
    "\n",
    "**Hoje:**\n",
    "1. Reforçar mais ferramentas para Análise Descritiva\n",
    "2. Avaliar, descritivamente, adequação da normal aos dados.\n",
    "3. Contrastar resultados teóricos e empíricos.\n",
    "\n",
    "\n",
    "**Próxima aula:**\n",
    "1.\tLeitura prévia necessária: Magalhães e Lima (7ª. Edição): Seção 5.1 (pág. 137) e Seção 5.2 (pág. 146).\n",
    "___"
   ]
  },
  {
   "cell_type": "markdown",
   "metadata": {},
   "source": [
    "___\n",
    "## <font color='blue'>Padaria </font>\n",
    "\n",
    "Uma empresa deve decidir onde construir uma padaria: <font color='green'>Bairro A </font> ou <font color='orange'> Bairro B </font>. \n",
    "\n",
    "Como ambos os bairros possuem densidades populacionais próximas, os investidores visam atingir um público alvo de maior renda familiar. \n",
    "Assim, quanto maior o número de famílias com rendas familiares mais altas, maior será a chance do empreendimento ser bem sucedido. \n",
    "\n",
    "Considerando que a decisão final seja baseada em informações sobre a renda familiar dos moradores desses dois bairros, responda:\n",
    "\n",
    "1. Calcule algumas medidas resumo úteis para entender o comportamento dessa variável em ambos os bairros. Analise.\n",
    "\n",
    "2. Construa o histograma dos dados e compare as distribuições de renda familiar (em mil reais) dos dois bairros. Qual é o melhor bairro para construir a padaria? Justifique.\n",
    "\n",
    "3. Construa o QQ-Plot considerando quantil amostral do Bairro A vs quantil amostral do Bairro B. Esse gráfico de quantis amostrais auxilia a responder qual é o melhor bairro para construir a padaria? Justifique claramente.\n",
    "   Dica: veja construção desse gráfico no Magalhães e Lima (7ª edição) - pág. 27 e 29.\n",
    "\n",
    "3. Assuma que $X$: renda familiar de um determinado bairro tenha $\\mu$ estimada pela média amostral ($\\bar{x}$) e tenha $\\sigma^2$ estimada pela variância amostral, ambas de um mesmo bairro em questão. Verifique, visualmente/graficamente, se a distribuição normal é adequada para estimar a renda familiar de cada bairro. Para isso, interprete os seguintes gráficos:\n",
    "      1. Construa o histograma dos dados junto com a fdp da distribuição normal e analise.\n",
    "      \n",
    "      2. Construa o Gráfico de probabilidade considerando o quantil amostral vs o quantil teórico da distribuição normal. Interprete esse gráfico com intuito de avaliar se: A renda de cada bairro é bem modelada por uma distribuição normal?\n",
    "      Dica: veja Exemplo 6.8 do Magalhães e Lima (7ª. edição) de como obter as frequências relativas acumuladas a partir de uma amostra de tamanho n=500 (de cada bairro). Os quantis teóricos da distribuição normal podem ser obtidos pelo comando `stats.norm.ppf(p, loc=mu, scale=sigma)`, sendo `p` a frequencia relativa acumulada  obtida anteriormente.\n",
    "      \n",
    "      4. Construa um gráfico dos valores observados vs frequência relativa acumulada (a partir dos dados) e vs função de distribuição acumulada.\n",
    "   \n",
    "4. Independente da sua resposta do item anterior, assuma que $X$: renda familiar de um determinado bairro segue uma distribuição normal considerando as estimativas amostrais como valores dos parâmetros de cada bairro. Nesse caso, para cada bairro, calcule:\n",
    "      1. probabilidade de uma família possuir renda familiar maior do que 17 mil reais.\n",
    "\n",
    "      2. sabendo que a famíliar tem mais do que 15 mil reais de renda familiar, qual a probabilidade dessa possuir renda inferior a 16 mil reais.\n",
    "      \n",
    "      3. qual a menor renda familiar dos 5% das famílias que mais ganham em cada bairro? \n",
    "\n"
   ]
  },
  {
   "cell_type": "code",
   "execution_count": 2,
   "metadata": {
    "collapsed": false
   },
   "outputs": [
    {
     "name": "stdout",
     "output_type": "stream",
     "text": [
      "Esperamos trabalhar no diretório\n",
      "C:\\Users\\B155 FIRE V3\\Documents\\Escola\\2017.1\\CD\\CD1S17\\APS\\Aula 14\n"
     ]
    }
   ],
   "source": [
    "%matplotlib inline\n",
    "\n",
    "import os\n",
    "import matplotlib.pyplot as plt\n",
    "import pandas as pd\n",
    "from scipy import stats\n",
    "from numpy import mean, var, arange\n",
    "\n",
    "print('Esperamos trabalhar no diretório')\n",
    "print(os.getcwd())\n",
    "\n",
    "pad = pd.read_excel('Padaria.xlsx')"
   ]
  },
  {
   "cell_type": "code",
   "execution_count": 3,
   "metadata": {
    "collapsed": false
   },
   "outputs": [
    {
     "data": {
      "text/html": [
       "<div>\n",
       "<table border=\"1\" class=\"dataframe\">\n",
       "  <thead>\n",
       "    <tr style=\"text-align: right;\">\n",
       "      <th></th>\n",
       "      <th>A</th>\n",
       "      <th>B</th>\n",
       "    </tr>\n",
       "  </thead>\n",
       "  <tbody>\n",
       "    <tr>\n",
       "      <th>count</th>\n",
       "      <td>500.000000</td>\n",
       "      <td>500.000000</td>\n",
       "    </tr>\n",
       "    <tr>\n",
       "      <th>mean</th>\n",
       "      <td>15.321676</td>\n",
       "      <td>14.221997</td>\n",
       "    </tr>\n",
       "    <tr>\n",
       "      <th>std</th>\n",
       "      <td>0.592599</td>\n",
       "      <td>1.840182</td>\n",
       "    </tr>\n",
       "    <tr>\n",
       "      <th>min</th>\n",
       "      <td>13.450880</td>\n",
       "      <td>9.704160</td>\n",
       "    </tr>\n",
       "    <tr>\n",
       "      <th>25%</th>\n",
       "      <td>14.919380</td>\n",
       "      <td>12.843832</td>\n",
       "    </tr>\n",
       "    <tr>\n",
       "      <th>50%</th>\n",
       "      <td>15.335840</td>\n",
       "      <td>14.348205</td>\n",
       "    </tr>\n",
       "    <tr>\n",
       "      <th>75%</th>\n",
       "      <td>15.702140</td>\n",
       "      <td>15.770295</td>\n",
       "    </tr>\n",
       "    <tr>\n",
       "      <th>max</th>\n",
       "      <td>17.151280</td>\n",
       "      <td>18.911520</td>\n",
       "    </tr>\n",
       "  </tbody>\n",
       "</table>\n",
       "</div>"
      ],
      "text/plain": [
       "                A           B\n",
       "count  500.000000  500.000000\n",
       "mean    15.321676   14.221997\n",
       "std      0.592599    1.840182\n",
       "min     13.450880    9.704160\n",
       "25%     14.919380   12.843832\n",
       "50%     15.335840   14.348205\n",
       "75%     15.702140   15.770295\n",
       "max     17.151280   18.911520"
      ]
     },
     "execution_count": 3,
     "metadata": {},
     "output_type": "execute_result"
    }
   ],
   "source": [
    "pad.describe()"
   ]
  },
  {
   "cell_type": "code",
   "execution_count": 4,
   "metadata": {
    "collapsed": true
   },
   "outputs": [],
   "source": [
    "faixa = range(9,20,1)"
   ]
  },
  {
   "cell_type": "code",
   "execution_count": 5,
   "metadata": {
    "collapsed": false
   },
   "outputs": [
    {
     "data": {
      "text/plain": [
       "<matplotlib.text.Text at 0x1da07464cf8>"
      ]
     },
     "execution_count": 5,
     "metadata": {},
     "output_type": "execute_result"
    },
    {
     "data": {
      "image/png": "[encoded data removed]",
      "text/plain": [
       "<matplotlib.figure.Figure at 0x1da073daba8>"
      ]
     },
     "metadata": {},
     "output_type": "display_data"
    }
   ],
   "source": [
    "plot = pad.A.plot.hist(bins=faixa,title='Histograma', figsize=(6, 6), alpha=0.9, normed=1)\n",
    "plot = pad.B.plot.hist(bins=faixa,title='Histograma', figsize=(6, 6), alpha=0.5, normed=1)\n",
    "plt.legend(('A', 'B'))\n",
    "plt.ylabel('Densidade')\n",
    "plt.xlabel('Renda familiar (mil reais)')"
   ]
  },
  {
   "cell_type": "code",
   "execution_count": 6,
   "metadata": {
    "collapsed": false
   },
   "outputs": [
    {
     "data": {
      "text/plain": [
       "<matplotlib.text.Text at 0x1da08d69940>"
      ]
     },
     "execution_count": 6,
     "metadata": {},
     "output_type": "execute_result"
    },
    {
     "data": {
      "image/png": "[encoded data removed]",
      "text/plain": [
       "<matplotlib.figure.Figure at 0x1da0780b198>"
      ]
     },
     "metadata": {},
     "output_type": "display_data"
    }
   ],
   "source": [
    "pad['ordA'] = sorted(pad.A)\n",
    "pad['ordB'] = sorted(pad.B)\n",
    "\n",
    "plt.plot(pad.ordA, pad.ordB, 'o')\n",
    "plt.plot((10,20),(10,20))\n",
    "\n",
    "plt.xlabel('Renda do bairro A (em mil reais)')\n",
    "plt.ylabel('Renda do bairro B (em mil reais)')"
   ]
  },
  {
   "cell_type": "code",
   "execution_count": null,
   "metadata": {
    "collapsed": true
   },
   "outputs": [],
   "source": []
  }
 ],
 "metadata": {
  "anaconda-cloud": {},
  "kernelspec": {
   "display_name": "Python [Root]",
   "language": "python",
   "name": "Python [Root]"
  },
  "language_info": {
   "codemirror_mode": {
    "name": "ipython",
    "version": 3
   },
   "file_extension": ".py",
   "mimetype": "text/x-python",
   "name": "python",
   "nbconvert_exporter": "python",
   "pygments_lexer": "ipython3",
   "version": "3.5.2"
  }
 },
 "nbformat": 4,
 "nbformat_minor": 0
}
